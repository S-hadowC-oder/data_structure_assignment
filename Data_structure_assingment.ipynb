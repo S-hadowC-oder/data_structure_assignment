{
 "cells": [
  {
   "cell_type": "code",
   "execution_count": null,
   "metadata": {},
   "outputs": [],
   "source": [
    "# 1 Discuss string slicing and provide examples\n",
    "# 2 Explain the key features of lists in Python\n",
    "# 3 Describe how to access, modify, and delete elements in a list with examples\n",
    "# 4 Compare and contrast tuples and lists with examples\n",
    "# 5 Describe the key features of sets and provide examples of their use\n",
    "# 6 Discuss the use cases of tuples and sets in Python programming\n",
    "# 7 Describe how to add, modify, and delete items in a dictionary with examples\n",
    "# 8 Discuss the importance of dictionary keys being immutable and provide examples.\n"
   ]
  },
  {
   "cell_type": "code",
   "execution_count": 1,
   "metadata": {},
   "outputs": [],
   "source": [
    "# 1. String Slicing in Python\n",
    "# String slicing allows you to access a portion (or \"slice\") of a string by specifying a range of indices. \n",
    "\n",
    "text = \"Hello, World!\"\n",
    "\n",
    "# Slicing from index 0 to 4 (not including 5)\n",
    "slice1 = text[0:5]  # \"Hello\"\n",
    "\n",
    "# Slicing from index 7 to the end\n",
    "slice2 = text[7:]   # \"World!\"\n",
    "\n",
    "# Slicing with a step of 2 (every second character)\n",
    "slice3 = text[::2]  # \"Hlo ol!\"\n",
    "\n",
    "# Slicing in reverse\n",
    "slice4 = text[::-1]  # \"!dlroW ,olleH\"\n"
   ]
  },
  {
   "cell_type": "code",
   "execution_count": 2,
   "metadata": {},
   "outputs": [
    {
     "data": {
      "text/plain": [
       "'Hello'"
      ]
     },
     "execution_count": 2,
     "metadata": {},
     "output_type": "execute_result"
    }
   ],
   "source": [
    "slice1"
   ]
  },
  {
   "cell_type": "code",
   "execution_count": 3,
   "metadata": {},
   "outputs": [
    {
     "data": {
      "text/plain": [
       "'World!'"
      ]
     },
     "execution_count": 3,
     "metadata": {},
     "output_type": "execute_result"
    }
   ],
   "source": [
    "slice2"
   ]
  },
  {
   "cell_type": "code",
   "execution_count": 4,
   "metadata": {},
   "outputs": [
    {
     "data": {
      "text/plain": [
       "'Hlo ol!'"
      ]
     },
     "execution_count": 4,
     "metadata": {},
     "output_type": "execute_result"
    }
   ],
   "source": [
    "slice3"
   ]
  },
  {
   "cell_type": "code",
   "execution_count": 5,
   "metadata": {},
   "outputs": [
    {
     "data": {
      "text/plain": [
       "'!dlroW ,olleH'"
      ]
     },
     "execution_count": 5,
     "metadata": {},
     "output_type": "execute_result"
    }
   ],
   "source": [
    "slice4"
   ]
  },
  {
   "cell_type": "code",
   "execution_count": 9,
   "metadata": {},
   "outputs": [],
   "source": [
    "# 2. Key Features of Lists in Python\n",
    "'''Ordered: Lists maintain the order of elements. The order in which elements are added is the order in which they are stored.\n",
    "Mutable: Elements in a list can be modified after the list is created.\n",
    "Heterogeneous: Lists can contain elements of different types, such as integers, strings, and other lists.\n",
    "Dynamic Size: Lists can grow or shrink in size, with elements being added or removed.\n",
    "Indexed: Each element in a list has an index, starting from 0.''' \n",
    "my_list = [1, \"Hello\", 3.14, [5, 6, 7]]\n",
    "\n",
    "# Accessing elements\n",
    "first_element = my_list[0]  # 1\n"
   ]
  },
  {
   "cell_type": "code",
   "execution_count": 10,
   "metadata": {},
   "outputs": [
    {
     "data": {
      "text/plain": [
       "1"
      ]
     },
     "execution_count": 10,
     "metadata": {},
     "output_type": "execute_result"
    }
   ],
   "source": [
    "first_element"
   ]
  },
  {
   "cell_type": "code",
   "execution_count": 11,
   "metadata": {},
   "outputs": [
    {
     "data": {
      "text/plain": [
       "[1, 'Hello', 3.14, [5, 6, 7]]"
      ]
     },
     "execution_count": 11,
     "metadata": {},
     "output_type": "execute_result"
    }
   ],
   "source": [
    "my_list"
   ]
  },
  {
   "cell_type": "code",
   "execution_count": 12,
   "metadata": {},
   "outputs": [],
   "source": [
    "# Modifying elements\n",
    "my_list[1] = \"World\""
   ]
  },
  {
   "cell_type": "code",
   "execution_count": 15,
   "metadata": {},
   "outputs": [
    {
     "data": {
      "text/plain": [
       "[1, 'World', [5, 6, 7], 10, 10]"
      ]
     },
     "execution_count": 15,
     "metadata": {},
     "output_type": "execute_result"
    }
   ],
   "source": [
    "# Adding elements\n",
    "my_list.append(10)\n",
    "my_list"
   ]
  },
  {
   "cell_type": "code",
   "execution_count": 17,
   "metadata": {},
   "outputs": [
    {
     "data": {
      "text/plain": [
       "[1, 'World', 10]"
      ]
     },
     "execution_count": 17,
     "metadata": {},
     "output_type": "execute_result"
    }
   ],
   "source": [
    "# Deleting elements\n",
    "del my_list[2]\n",
    "my_list"
   ]
  },
  {
   "cell_type": "code",
   "execution_count": 19,
   "metadata": {},
   "outputs": [
    {
     "data": {
      "text/plain": [
       "10"
      ]
     },
     "execution_count": 19,
     "metadata": {},
     "output_type": "execute_result"
    }
   ],
   "source": [
    "#3. Accessing, Modifying, and Deleting Elements in a List\n",
    "#Accessing:-\n",
    "numbers = [10, 20, 30, 40]\n",
    "# Accessing the first element\n",
    "first = numbers[0]  # 10\n",
    "\n",
    "# Accessing the last element\n",
    "last = numbers[-1]  # 40\n",
    "\n",
    "first\n"
   ]
  },
  {
   "cell_type": "code",
   "execution_count": 20,
   "metadata": {},
   "outputs": [
    {
     "data": {
      "text/plain": [
       "40"
      ]
     },
     "execution_count": 20,
     "metadata": {},
     "output_type": "execute_result"
    }
   ],
   "source": [
    "last"
   ]
  },
  {
   "cell_type": "code",
   "execution_count": 21,
   "metadata": {},
   "outputs": [
    {
     "name": "stdout",
     "output_type": "stream",
     "text": [
      "['apple', 'blueberry', 'cherry']\n"
     ]
    }
   ],
   "source": [
    "# Modifying\n",
    "fruits = [\"apple\", \"banana\", \"cherry\"]\n",
    "\n",
    "# Modifying the second element\n",
    "fruits[1] = \"blueberry\"  # [\"apple\", \"blueberry\", \"cherry\"]\n",
    "\n",
    "print(fruits)"
   ]
  },
  {
   "cell_type": "code",
   "execution_count": 30,
   "metadata": {},
   "outputs": [
    {
     "data": {
      "text/plain": [
       "['cat', 'dog', 'rabbit']"
      ]
     },
     "execution_count": 30,
     "metadata": {},
     "output_type": "execute_result"
    }
   ],
   "source": [
    "# Deleting\n",
    "animals = [\"cat\", \"dog\", \"rabbit\"]\n",
    "animals"
   ]
  },
  {
   "cell_type": "code",
   "execution_count": 31,
   "metadata": {},
   "outputs": [
    {
     "data": {
      "text/plain": [
       "['dog', 'rabbit']"
      ]
     },
     "execution_count": 31,
     "metadata": {},
     "output_type": "execute_result"
    }
   ],
   "source": [
    "# Deleting the first element\n",
    "del animals[0]  # [\"dog\", \"rabbit\"]\n",
    "\n",
    "animals"
   ]
  },
  {
   "cell_type": "code",
   "execution_count": 32,
   "metadata": {},
   "outputs": [
    {
     "data": {
      "text/plain": [
       "['dog']"
      ]
     },
     "execution_count": 32,
     "metadata": {},
     "output_type": "execute_result"
    }
   ],
   "source": [
    "# Removing an element by value\n",
    "animals.remove(\"rabbit\")  # [\"dog\"]\n",
    "animals"
   ]
  },
  {
   "cell_type": "code",
   "execution_count": 34,
   "metadata": {},
   "outputs": [
    {
     "data": {
      "text/plain": [
       "(1, 'Hello', 3.14)"
      ]
     },
     "execution_count": 34,
     "metadata": {},
     "output_type": "execute_result"
    }
   ],
   "source": [
    "# 4. Comparing Tuples and Lists\n",
    "# Tuples:\n",
    "\n",
    "''' Immutable: Once created, the elements of a tuple cannot be modified.\n",
    " Ordered: Tuples maintain the order of elements.\n",
    " Heterogeneous: Like lists, tuples can contain elements of different types.\n",
    " Fixed Size: Tuples have a fixed size after creation.'''\n",
    "\n",
    "my_tuple = (1, \"Hello\", 3.14)\n",
    "\n",
    "# Accessing elements\n",
    "first = my_tuple[0]  # 1\n",
    "my_tuple\n"
   ]
  },
  {
   "cell_type": "code",
   "execution_count": 35,
   "metadata": {},
   "outputs": [
    {
     "data": {
      "text/plain": [
       "1"
      ]
     },
     "execution_count": 35,
     "metadata": {},
     "output_type": "execute_result"
    }
   ],
   "source": [
    "first"
   ]
  },
  {
   "cell_type": "code",
   "execution_count": 36,
   "metadata": {},
   "outputs": [
    {
     "data": {
      "text/plain": [
       "(1, 'Hello', 3.14)"
      ]
     },
     "execution_count": 36,
     "metadata": {},
     "output_type": "execute_result"
    }
   ],
   "source": [
    "#lists:\n",
    "\n",
    "'''Mutable: Lists can be modified after creation.\n",
    "Ordered: Lists also maintain the order of elements.\n",
    "Heterogeneous: Lists can contain elements of different types.\n",
    "Dynamic Size: Lists can grow or shrink in size.''' \n",
    "my_list = [1, \"Hello\", 3.14]\n",
    "my_tuple"
   ]
  },
  {
   "cell_type": "code",
   "execution_count": 38,
   "metadata": {},
   "outputs": [
    {
     "data": {
      "text/plain": [
       "[1, 'World', 3.14]"
      ]
     },
     "execution_count": 38,
     "metadata": {},
     "output_type": "execute_result"
    }
   ],
   "source": [
    "# Modifying elements\n",
    "my_list[1] = \"World\"  # [\"World\", 3.14]\n",
    "my_list"
   ]
  },
  {
   "cell_type": "code",
   "execution_count": 40,
   "metadata": {},
   "outputs": [
    {
     "data": {
      "text/plain": [
       "{1, 2, 3, 4}"
      ]
     },
     "execution_count": 40,
     "metadata": {},
     "output_type": "execute_result"
    }
   ],
   "source": [
    "#5. Key Features of Sets in Python\n",
    "'''Unordered: Sets do not maintain any order for elements.\n",
    "Unindexed: Elements in a set cannot be accessed by index.\n",
    "Unique Elements: Sets do not allow duplicate elements; each element must be unique.\n",
    "Mutable: Elements can be added or removed from a set''' \n",
    "my_set = {1, 2, 3, 4, 4}  # {1, 2, 3, 4}\n",
    "\n",
    "my_set"
   ]
  },
  {
   "cell_type": "code",
   "execution_count": 41,
   "metadata": {},
   "outputs": [
    {
     "data": {
      "text/plain": [
       "{1, 2, 3, 4, 5}"
      ]
     },
     "execution_count": 41,
     "metadata": {},
     "output_type": "execute_result"
    }
   ],
   "source": [
    "# Adding an element\n",
    "my_set.add(5)  # {1, 2, 3, 4, 5}\n",
    "\n",
    "my_set\n"
   ]
  },
  {
   "cell_type": "code",
   "execution_count": 42,
   "metadata": {},
   "outputs": [
    {
     "data": {
      "text/plain": [
       "{1, 2, 4, 5}"
      ]
     },
     "execution_count": 42,
     "metadata": {},
     "output_type": "execute_result"
    }
   ],
   "source": [
    "# Removing an element\n",
    "my_set.remove(3)  # {1, 2, 4, 5}\n",
    "\n",
    "my_set"
   ]
  },
  {
   "cell_type": "code",
   "execution_count": 43,
   "metadata": {},
   "outputs": [
    {
     "data": {
      "text/plain": [
       "True"
      ]
     },
     "execution_count": 43,
     "metadata": {},
     "output_type": "execute_result"
    }
   ],
   "source": [
    "# Checking membership\n",
    "exists = 2 in my_set  # True\n",
    "exists"
   ]
  },
  {
   "cell_type": "code",
   "execution_count": 44,
   "metadata": {},
   "outputs": [
    {
     "data": {
      "text/plain": [
       "'Function Return Values: Functions often return tuples to return multiple values.\\nImmutable Collections: When you want to ensure that a collection of items does not change, use a tuple.\\nDictionary Keys: Tuples can be used as keys in dictionaries (because they are immutable).\\nSets:\\n\\nMembership Testing: Sets are highly optimized for checking if an element is part of a set.\\nEliminating Duplicates: Sets are useful for removing duplicate elements from a list.\\nMathematical Operations: Sets support operations like union, intersection, and difference.'"
      ]
     },
     "execution_count": 44,
     "metadata": {},
     "output_type": "execute_result"
    }
   ],
   "source": [
    "# 6. Use Cases of Tuples and Sets in Python Programming\n",
    "# Tuples:\n",
    "\n",
    "'''Function Return Values: Functions often return tuples to return multiple values.\n",
    "Immutable Collections: When you want to ensure that a collection of items does not change, use a tuple.\n",
    "Dictionary Keys: Tuples can be used as keys in dictionaries (because they are immutable).\n",
    "Sets:\n",
    "\n",
    "Membership Testing: Sets are highly optimized for checking if an element is part of a set.\n",
    "Eliminating Duplicates: Sets are useful for removing duplicate elements from a list.\n",
    "Mathematical Operations: Sets support operations like union, intersection, and difference.''' \n"
   ]
  },
  {
   "cell_type": "code",
   "execution_count": 45,
   "metadata": {},
   "outputs": [],
   "source": [
    "# 7. Adding, Modifying, and Deleting Items in a Dictionary\n",
    "student = {\"name\": \"Alice\", \"age\": 25}\n",
    "\n",
    "# Adding a new key-value pair\n",
    "student[\"grade\"] = \"A\"  # {\"name\": \"Alice\", \"age\": 25, \"grade\": \"A\"}\n"
   ]
  },
  {
   "cell_type": "code",
   "execution_count": 46,
   "metadata": {},
   "outputs": [
    {
     "data": {
      "text/plain": [
       "{'name': 'Alice', 'age': 25, 'grade': 'A'}"
      ]
     },
     "execution_count": 46,
     "metadata": {},
     "output_type": "execute_result"
    }
   ],
   "source": [
    "student"
   ]
  },
  {
   "cell_type": "code",
   "execution_count": 47,
   "metadata": {},
   "outputs": [],
   "source": [
    "# Modifying an existing value\n",
    "student[\"age\"] = 26  # {\"name\": \"Alice\", \"age\": 26, \"grade\": \"A\"}\n"
   ]
  },
  {
   "cell_type": "code",
   "execution_count": 48,
   "metadata": {},
   "outputs": [
    {
     "data": {
      "text/plain": [
       "{'name': 'Alice', 'age': 26, 'grade': 'A'}"
      ]
     },
     "execution_count": 48,
     "metadata": {},
     "output_type": "execute_result"
    }
   ],
   "source": [
    "student"
   ]
  },
  {
   "cell_type": "code",
   "execution_count": 49,
   "metadata": {},
   "outputs": [],
   "source": [
    "# Deleting a key-value pair\n",
    "del student[\"grade\"]  # {\"name\": \"Alice\", \"age\": 26}\n",
    "\n",
    "# Popping an item (removes and returns the value)\n",
    "popped_value = student.pop(\"age\")  # popped_value = 26; student = {\"name\": \"Alice\"}\n"
   ]
  },
  {
   "cell_type": "code",
   "execution_count": 50,
   "metadata": {},
   "outputs": [
    {
     "data": {
      "text/plain": [
       "{'name': 'Alice'}"
      ]
     },
     "execution_count": 50,
     "metadata": {},
     "output_type": "execute_result"
    }
   ],
   "source": [
    "student"
   ]
  },
  {
   "cell_type": "code",
   "execution_count": 51,
   "metadata": {},
   "outputs": [],
   "source": [
    "# 8. Importance of Dictionary Keys Being Immutable\n",
    "# Dictionary keys must be immutable to ensure that the hash value (used for quick lookups) of the key does not change. If a key were mutable, its hash value could change after being added to the dictionary, leading to incorrect or failed lookups.\n",
    "\n",
    "# Examples of Immutable Keys:\n",
    "\n",
    "# Strings: A common type for dictionary keys.\n",
    "# Numbers: Integers and floats can be used as keys.\n",
    "# Tuples: Can be used as keys if they only contain immutable types.\n",
    "\n",
    "# Valid dictionary with immutable keys\n",
    "my_dict = {\n",
    "    \"name\": \"Alice\",\n",
    "    1: \"One\",\n",
    "    (2, 3): \"Tuple as key\"\n",
    "}\n",
    "\n",
    "\n"
   ]
  },
  {
   "cell_type": "code",
   "execution_count": 52,
   "metadata": {},
   "outputs": [
    {
     "data": {
      "text/plain": [
       "{'name': 'Alice', 1: 'One', (2, 3): 'Tuple as key'}"
      ]
     },
     "execution_count": 52,
     "metadata": {},
     "output_type": "execute_result"
    }
   ],
   "source": [
    "my_dict"
   ]
  }
 ],
 "metadata": {
  "kernelspec": {
   "display_name": "base",
   "language": "python",
   "name": "python3"
  },
  "language_info": {
   "codemirror_mode": {
    "name": "ipython",
    "version": 3
   },
   "file_extension": ".py",
   "mimetype": "text/x-python",
   "name": "python",
   "nbconvert_exporter": "python",
   "pygments_lexer": "ipython3",
   "version": "3.11.5"
  }
 },
 "nbformat": 4,
 "nbformat_minor": 2
}
